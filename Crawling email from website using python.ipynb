{
 "cells": [
  {
   "cell_type": "code",
   "execution_count": 24,
   "metadata": {},
   "outputs": [
    {
     "name": "stdout",
     "output_type": "stream",
     "text": [
      "Masukkan link websitenya :https://www.sciencedirect.com/journal/aasri-procedia/vol/9/suppl/C\n",
      "simpan file dengan nama :web2.csv\n"
     ]
    }
   ],
   "source": [
    "import re\n",
    "import pandas as pd\n",
    "from requests_html import HTMLSession\n",
    "url = input(\"Masukkan link websitenya :\")\n",
    "EMAIL_REGEX = \"[a-z0-9\\.\\-+_]+@[a-z0-9\\.\\-+_]+\\.[a-z]+\"\n",
    "session = HTMLSession()\n",
    "r = session.get(url)\n",
    "emails = re.findall(EMAIL_REGEX, r.html.raw_html.decode())\n",
    "emails = list(dict.fromkeys(emails))\n",
    "df = pd.DataFrame(emails, columns=[\"Email\"])\n",
    "output_name= input(\"simpan file dengan nama :\")\n",
    "df.to_csv(output_name, index=False)"
   ]
  },
  {
   "cell_type": "code",
   "execution_count": null,
   "metadata": {},
   "outputs": [],
   "source": []
  }
 ],
 "metadata": {
  "kernelspec": {
   "display_name": "Python 3",
   "language": "python",
   "name": "python3"
  },
  "language_info": {
   "codemirror_mode": {
    "name": "ipython",
    "version": 3
   },
   "file_extension": ".py",
   "mimetype": "text/x-python",
   "name": "python",
   "nbconvert_exporter": "python",
   "pygments_lexer": "ipython3",
   "version": "3.8.5"
  }
 },
 "nbformat": 4,
 "nbformat_minor": 4
}
