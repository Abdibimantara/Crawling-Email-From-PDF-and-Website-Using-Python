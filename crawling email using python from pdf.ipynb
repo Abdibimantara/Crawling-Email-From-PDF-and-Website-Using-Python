{
 "cells": [
  {
   "cell_type": "code",
   "execution_count": 2,
   "metadata": {
    "scrolled": true
   },
   "outputs": [
    {
     "data": {
      "text/plain": [
       "['markyassa@gmail.com',\n",
       " 'gurudatt.kulkarni@mmpolytechnic.com',\n",
       " 'sahala-18@163.net',\n",
       " 'kj.curran@ulster.ac.uk',\n",
       " 'kj.curran@ulster.ac.uk',\n",
       " 'vijay.chaurasiya@gmail.com',\n",
       " 'vijayk@iiita.ac.in',\n",
       " 'sbgovil@gmail.com',\n",
       " 'karthik29nov@gmail.com',\n",
       " 'karthikeya777@gmail.com',\n",
       " 'vijay.chaurasiya@gmail.com',\n",
       " 'sdas@iiita.ac.in']"
      ]
     },
     "execution_count": 2,
     "metadata": {},
     "output_type": "execute_result"
    }
   ],
   "source": [
    "import re\n",
    "import pandas as pd\n",
    "def extract_PDF_text(filePath):\n",
    "    import PyPDF2\n",
    "    \n",
    "    txt=''\n",
    "    # Open the PDF in a reader\n",
    "    pdfFileObject = open(filePath, 'rb')\n",
    "    pdfReader = PyPDF2.PdfFileReader(pdfFileObject)    \n",
    "    # Process each page in the document \n",
    "    count = pdfReader.numPages\n",
    "    for i in range(count):\n",
    "        page = pdfReader.getPage(i)\n",
    "        # Extract the text in this page\n",
    "        txt += page.extractText()      \n",
    "    # Return all of the extracted text\n",
    "    return txt.replace('\\n', '')\n",
    "\n",
    "\n",
    "# Use the function to process a PDF file\n",
    "filePath = 'Vol1_No1_2012_all.pdf'\n",
    "fileText = extract_PDF_text(filePath)\n",
    "#print(fileText)\n",
    "emails = re.findall(r\"[a-z0-9\\.\\-+_]+@[a-z0-9\\.\\-+_]+\\.[a-z]+\", fileText)\n",
    "df = pd.DataFrame(emails, columns=[\"Email\"])\n",
    "df.to_csv('emailhhh.csv', index=False)"
   ]
  }
 ],
 "metadata": {
  "kernelspec": {
   "display_name": "Python 3",
   "language": "python",
   "name": "python3"
  },
  "language_info": {
   "codemirror_mode": {
    "name": "ipython",
    "version": 3
   },
   "file_extension": ".py",
   "mimetype": "text/x-python",
   "name": "python",
   "nbconvert_exporter": "python",
   "pygments_lexer": "ipython3",
   "version": "3.8.5"
  }
 },
 "nbformat": 4,
 "nbformat_minor": 4
}
